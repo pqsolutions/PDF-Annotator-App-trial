{
 "cells": [
  {
   "cell_type": "code",
   "execution_count": 9,
   "metadata": {},
   "outputs": [
    {
     "name": "stdout",
     "output_type": "stream",
     "text": [
      "Database and table created successfully from /home/aj/Desktop/data/files_list.csv.\n"
     ]
    }
   ],
   "source": [
    "import pandas as pd\n",
    "import sqlite3\n",
    "\n",
    "# SQLite database file path\n",
    "sqlite_file_path = '/home/aj/Desktop/data/pdf_annotator_app.db'\n",
    "\n",
    "# CSV file path\n",
    "csv_file_path = '/home/aj/Desktop/data/files_list.csv'\n",
    "\n",
    "# Text file containing the list\n",
    "list_file_path = '/home/aj/Desktop/data/fields_list.lst'\n",
    "\n",
    "# Read CSV file using pandas\n",
    "df_csv = pd.read_csv(csv_file_path)\n",
    "\n",
    "# Read the list from the file\n",
    "with open(list_file_path, 'r') as file:\n",
    "    field_list = [line.strip() for line in file]\n",
    "\n",
    "# Connect to SQLite database\n",
    "conn = sqlite3.connect(sqlite_file_path)\n",
    "cursor = conn.cursor()\n",
    "\n",
    "# Define table creation query\n",
    "table_name = 'files_master_table'\n",
    "create_table_query = f\"\"\"\n",
    "CREATE TABLE IF NOT EXISTS {table_name} (\n",
    "    id INTEGER PRIMARY KEY AUTOINCREMENT,\n",
    "    filename TEXT,\n",
    "    filepath TEXT,\n",
    "    extracted BOOLEAN\n",
    ")\n",
    "\"\"\"\n",
    "\n",
    "# Execute the table creation query\n",
    "cursor.execute(create_table_query)\n",
    "conn.commit()\n",
    "\n",
    "# Insert data into the table\n",
    "insert_data_query = f\"INSERT INTO {table_name} (filename, filepath, extracted) VALUES (?, ?, ?)\"\n",
    "\n",
    "for _, row in df_csv.iterrows():\n",
    "    data_tuple = (row['filename'], row['filepath'], row['extracted'])\n",
    "    cursor.execute(insert_data_query, data_tuple)\n",
    "\n",
    "conn.commit()\n",
    "\n",
    "# Define table creation query\n",
    "table_name = 'fields_master_table'\n",
    "create_table_query = f\"\"\"\n",
    "CREATE TABLE IF NOT EXISTS {table_name} (\n",
    "    id INTEGER PRIMARY KEY AUTOINCREMENT,\n",
    "    fields TEXT\n",
    ")\n",
    "\"\"\"\n",
    "# Execute the table creation query\n",
    "cursor.execute(create_table_query)\n",
    "conn.commit()\n",
    "\n",
    "# Insert data into the table\n",
    "insert_data_query = f\"INSERT INTO {table_name} (fields) VALUES (?)\"\n",
    "\n",
    "for field in field_list:\n",
    "    data_tuple = (field,)\n",
    "    cursor.execute(insert_data_query, data_tuple)\n",
    "\n",
    "conn.commit()\n",
    "\n",
    "\n",
    "# Close the database connection\n",
    "cursor.close()\n",
    "conn.close()\n",
    "\n",
    "print(f\"Database and table created successfully from {csv_file_path}.\")\n"
   ]
  },
  {
   "cell_type": "code",
   "execution_count": 8,
   "metadata": {},
   "outputs": [
    {
     "name": "stdout",
     "output_type": "stream",
     "text": [
      "The SQLite database file '/home/aj/Desktop/data/pdf_annotator_app.db' has been deleted.\n"
     ]
    }
   ],
   "source": [
    "import os\n",
    "\n",
    "# SQLite database file path\n",
    "sqlite_file_path = '/home/aj/Desktop/data/pdf_annotator_app.db'\n",
    "\n",
    "# Check if the file exists before attempting to delete\n",
    "if os.path.exists(sqlite_file_path):\n",
    "    # Close the database connection if it's open\n",
    "    # This is important to avoid potential issues when deleting the file\n",
    "    try:\n",
    "        conn.close()\n",
    "    except NameError:\n",
    "        pass\n",
    "\n",
    "    # Delete the SQLite database file\n",
    "    os.remove(sqlite_file_path)\n",
    "    print(f\"The SQLite database file '{sqlite_file_path}' has been deleted.\")\n",
    "else:\n",
    "    print(f\"The SQLite database file '{sqlite_file_path}' does not exist.\")"
   ]
  },
  {
   "cell_type": "code",
   "execution_count": null,
   "metadata": {},
   "outputs": [],
   "source": [
    "import "
   ]
  }
 ],
 "metadata": {
  "kernelspec": {
   "display_name": "Python [conda env:flaskapp]",
   "language": "python",
   "name": "conda-env-flaskapp-py"
  }
 },
 "nbformat": 4,
 "nbformat_minor": 2
}
